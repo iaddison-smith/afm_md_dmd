{
 "cells": [
  {
   "cell_type": "markdown",
   "metadata": {},
   "source": [
    "## Unmasking biomacromolecular conformational dynamics from 2D analysis of subdomains vibration modes and molecular kinetics (Tutorial 2)"
   ]
  },
  {
   "cell_type": "markdown",
   "metadata": {},
   "source": [
    "### From raw images"
   ]
  },
  {
   "cell_type": "code",
   "execution_count": 2,
   "metadata": {},
   "outputs": [
    {
     "ename": "NameError",
     "evalue": "name 'frames' is not defined",
     "output_type": "error",
     "traceback": [
      "\u001b[0;31m---------------------------------------------------------------------------\u001b[0m",
      "\u001b[0;31mNameError\u001b[0m                                 Traceback (most recent call last)",
      "Cell \u001b[0;32mIn[2], line 16\u001b[0m\n\u001b[1;32m     13\u001b[0m     \u001b[38;5;28;01mreturn\u001b[39;00m np\u001b[38;5;241m.\u001b[39marray(images)\n\u001b[1;32m     14\u001b[0m \u001b[38;5;66;03m#frames = read_tiff('spikes/SV 12.tif')\u001b[39;00m\n\u001b[0;32m---> 16\u001b[0m \u001b[38;5;28mprint\u001b[39m(\u001b[43mframes\u001b[49m\u001b[38;5;241m.\u001b[39mshape)\n\u001b[1;32m     17\u001b[0m X \u001b[38;5;241m=\u001b[39m frames\u001b[38;5;241m.\u001b[39mreshape(frames\u001b[38;5;241m.\u001b[39mshape[\u001b[38;5;241m0\u001b[39m],frames\u001b[38;5;241m.\u001b[39mshape[\u001b[38;5;241m1\u001b[39m]\u001b[38;5;241m*\u001b[39mframes\u001b[38;5;241m.\u001b[39mshape[\u001b[38;5;241m1\u001b[39m])\u001b[38;5;241m.\u001b[39mT\n",
      "\u001b[0;31mNameError\u001b[0m: name 'frames' is not defined"
     ]
    }
   ],
   "source": [
    "from PIL import Image\n",
    "import numpy as np\n",
    "\n",
    "def read_tiff(path):\n",
    "    \"\"\"\n",
    "    path - Path to the multipage-tiff file\n",
    "    \"\"\"\n",
    "    img = Image.open(path)\n",
    "    images = []\n",
    "    for i in range(img.n_frames):\n",
    "        img.seek(i)\n",
    "        images.append(np.array(img))\n",
    "    return np.array(images)\n",
    "#frames = read_tiff('spikes/SV 12.tif')\n",
    "\n",
    "print(frames.shape)\n",
    "X = frames.reshape(frames.shape[0],frames.shape[1]*frames.shape[1]).T"
   ]
  },
  {
   "cell_type": "code",
   "execution_count": null,
   "metadata": {},
   "outputs": [],
   "source": [
    "from pydmd import DMD, BOPDMD, EDMD\n",
    "from pydmd.plotter import plot_eigs, plot_summary\n",
    "%matplotlib inline\n",
    "\n",
    "optdmd = BOPDMD(svd_rank=10)#, varpro_opts_dict={\"verbose\": True, \"tol\": 0.04}) #uncomment to add options\n",
    "#dmd = DMD(svd_rank=4)\n",
    "optdmd.fit(X,np.linspace(0,frames.shape[0]-1,frames.shape[0]))\n",
    "\n",
    "# Plot a summary of the DMD results.\n",
    "plot_summary(optdmd,snapshots_shape=(frames.shape[1],frames.shape[1]))"
   ]
  },
  {
   "cell_type": "code",
   "execution_count": null,
   "metadata": {},
   "outputs": [],
   "source": [
    "import matplotlib.pyplot as plt\n",
    "fig, axs = plt.subplots(2,3,figsize=(15,8))\n",
    "axs[0,0].imshow(np.real(optdmd.reconstructed_data[:,0]).reshape(frames.shape[1],frames.shape[1]),cmap='inferno')\n",
    "axs[0,1].imshow(np.real(optdmd.reconstructed_data[:,frames.shape[0]//3]).reshape(frames.shape[1],frames.shape[1]),cmap='inferno')\n",
    "axs[0,2].imshow(np.real(optdmd.reconstructed_data[:,frames.shape[0]-1]).reshape(frames.shape[1],frames.shape[1]),cmap='inferno')\n",
    "axs[1,0].imshow(np.real(X[:,0]).reshape(frames.shape[1],frames.shape[1]),cmap='inferno')\n",
    "axs[1,1].imshow(np.real(X[:,frames.shape[0]//3]).reshape(frames.shape[1],frames.shape[1]),cmap='inferno')\n",
    "axs[1,2].imshow(np.real(X[:,frames.shape[0]-1]).reshape(frames.shape[1],frames.shape[1]),cmap='inferno')\n",
    "axs[0,0].set_title(f'DMD'); axs[1,0].set_title(f'Original');\n",
    "axs[0,0].set_axis_off(); axs[0,1].set_axis_off();  axs[0,2].set_axis_off(); \n",
    "axs[1,0].set_axis_off(); axs[1,1].set_axis_off();  axs[1,2].set_axis_off(); "
   ]
  },
  {
   "cell_type": "code",
   "execution_count": null,
   "metadata": {},
   "outputs": [],
   "source": [
    "import numpy as np\n",
    "import matplotlib.pyplot as plt\n",
    "\n",
    "# Función para calcular el centroide de un conjunto de posiciones\n",
    "def calculate_center_of_mass(positions):\n",
    "    return np.mean(positions, axis=0)\n",
    "\n",
    "# Función para calcular el radio de giro\n",
    "def calculate_radius_of_gyration(positions):\n",
    "    com = calculate_center_of_mass(positions)\n",
    "    squared_distances = np.sum((positions - com) ** 2, axis=1)  # Distancias al cuadrado\n",
    "    rg = np.sqrt(np.mean(squared_distances))  # Promedio y raíz cuadrada\n",
    "    return rg\n",
    "\n",
    "# Procesar los datos de frames para obtener posiciones (X, Y)\n",
    "def get_positions_from_frames(frames):\n",
    "    \"\"\"\n",
    "    Obtiene las posiciones (X, Y) como un array numpy para cada frame,\n",
    "    asumiendo intensidades en la imagen como distribución de posiciones.\n",
    "    \"\"\"\n",
    "    positions_per_frame = []\n",
    "    for frame in frames:\n",
    "        y, x = np.where(frame > 0)  # Extraer las coordenadas donde hay señal\n",
    "        positions = np.vstack([x, y]).T  # Apilar X, Y como posiciones\n",
    "        positions_per_frame.append(positions)\n",
    "    return positions_per_frame\n",
    "\n",
    "# Extraer posiciones de los datos originales y DMD\n",
    "original_positions = get_positions_from_frames(X.T.reshape(frames.shape))\n",
    "dmd_positions = get_positions_from_frames(optdmd.reconstructed_data.T.reshape(frames.shape))\n",
    "\n",
    "# Calcular radios de giro para cada frame\n",
    "rgyr_original = [calculate_radius_of_gyration(positions) for positions in original_positions]\n",
    "rgyr_dmd = [calculate_radius_of_gyration(positions) for positions in dmd_positions]\n",
    "\n",
    "# Graficar radios de giro\n",
    "plt.plot(rgyr_original, label=\"Rg AFM \")\n",
    "plt.plot(rgyr_dmd, label=\"Rg DMD\")\n",
    "plt.xlabel(\"Frames\")\n",
    "plt.ylabel(\"Radius of Gyration\")\n",
    "\n",
    "plt.legend()\n",
    "plt.show()"
   ]
  },
  {
   "cell_type": "code",
   "execution_count": null,
   "metadata": {},
   "outputs": [],
   "source": [
    "def calculate_rmsd(positions_ref, positions_target):\n",
    "    \"\"\"\n",
    "    Calcula el RMSD entre dos conjuntos de posiciones.\n",
    "    \"\"\"\n",
    "    diff = positions_ref - positions_target\n",
    "    rmsd = np.sqrt(np.mean(np.sum(diff ** 2, axis=1)))\n",
    "    return rmsd\n",
    "\n",
    "def compute_rmsd_series(frames, reference_frame):\n",
    "    \"\"\"\n",
    "    Calcula la serie temporal de RMSD respecto a un frame de referencia.\n",
    "    \"\"\"\n",
    "    rmsd_series = []\n",
    "    for i in range(len(frames)):\n",
    "        positions_ref = np.column_stack(np.where(reference_frame > 0))  # Posiciones del frame de referencia\n",
    "        positions_target = np.column_stack(np.where(frames[i] > 0))     # Posiciones del frame actual\n",
    "        \n",
    "        # Emparejar las posiciones (opcional si no coinciden en tamaño)\n",
    "        min_size = min(len(positions_ref), len(positions_target))\n",
    "        positions_ref, positions_target = positions_ref[:min_size], positions_target[:min_size]\n",
    "        \n",
    "        # Calcular RMSD\n",
    "        rmsd = calculate_rmsd(positions_ref, positions_target)\n",
    "        rmsd_series.append(rmsd)\n",
    "    return rmsd_series\n",
    "\n",
    "# Calcular RMSD para AFM y DMD usando el primer frame como referencia\n",
    "reference_afm = frames[0]\n",
    "reference_dmd = optdmd.reconstructed_data[:, 0].reshape(frames.shape[1], frames.shape[2])\n",
    "\n",
    "rmsd_afm = compute_rmsd_series(frames, reference_afm)\n",
    "rmsd_dmd = compute_rmsd_series(\n",
    "    optdmd.reconstructed_data.T.reshape(frames.shape[0], frames.shape[1], frames.shape[2]),\n",
    "    reference_dmd\n",
    ")\n",
    "\n",
    "# Graficar ambas series de RMSD\n",
    "plt.figure(figsize=(10, 6))\n",
    "plt.plot(rmsd_afm, label=\"RMSD AFM\", color=\"blue\")\n",
    "plt.plot(rmsd_dmd, label=\"RMSD DMD\", color=\"red\", linestyle=\"--\")\n",
    "plt.xlabel(\"Frames\")\n",
    "plt.ylabel(\"RMSD\")\n",
    "plt.legend()\n",
    "plt.show()"
   ]
  },
  {
   "cell_type": "code",
   "execution_count": null,
   "metadata": {},
   "outputs": [],
   "source": []
  }
 ],
 "metadata": {
  "kernelspec": {
   "display_name": "Python 3 (ipykernel)",
   "language": "python",
   "name": "python3"
  },
  "language_info": {
   "codemirror_mode": {
    "name": "ipython",
    "version": 3
   },
   "file_extension": ".py",
   "mimetype": "text/x-python",
   "name": "python",
   "nbconvert_exporter": "python",
   "pygments_lexer": "ipython3",
   "version": "3.9.7"
  }
 },
 "nbformat": 4,
 "nbformat_minor": 2
}
